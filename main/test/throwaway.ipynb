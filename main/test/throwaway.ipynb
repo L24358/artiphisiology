{
 "cells": [
  {
   "cell_type": "code",
   "execution_count": 1,
   "metadata": {},
   "outputs": [
    {
     "name": "stdout",
     "output_type": "stream",
     "text": [
      "{1: (1, 5), 2: (2, 2)}\n"
     ]
    }
   ],
   "source": [
    "def combine_dict2(d1, d2):\n",
    "        return {\n",
    "            k: tuple(d[k] for d in (d1, d2) if k in d)\n",
    "            for k in set(d1.keys()) & set(d2.keys())\n",
    "        }\n",
    "    \n",
    "d1 = {1:1, 2:2, 3:3}\n",
    "d2 = {1:5, 2:2, 4:5}\n",
    "print(combine_dict2(d1, d2))"
   ]
  },
  {
   "cell_type": "code",
   "execution_count": null,
   "metadata": {},
   "outputs": [],
   "source": []
  }
 ],
 "metadata": {
  "kernelspec": {
   "display_name": "Python 3",
   "language": "python",
   "name": "python3"
  },
  "language_info": {
   "codemirror_mode": {
    "name": "ipython",
    "version": 3
   },
   "file_extension": ".py",
   "mimetype": "text/x-python",
   "name": "python",
   "nbconvert_exporter": "python",
   "pygments_lexer": "ipython3",
   "version": "3.8.10"
  },
  "orig_nbformat": 4
 },
 "nbformat": 4,
 "nbformat_minor": 2
}
