{
 "cells": [
  {
   "cell_type": "code",
   "execution_count": 1,
   "metadata": {},
   "outputs": [],
   "source": [
    "import torch\n",
    "import numpy as np\n",
    "import matplotlib.pyplot as plt\n",
    "import handytools.navigator as nav\n",
    "import spectools.models.models as mdl\n",
    "from handytools.catcher import InputError"
   ]
  },
  {
   "attachments": {},
   "cell_type": "markdown",
   "metadata": {},
   "source": [
    "1. Find most exciting inputs. (Read paper; for now, can just use most exciting out of the 51*8 shape inputs)\n",
    "2. Remove one channel, quantify how that impacts the subsequent output. (Quantity: abs difference, *invariance)\n",
    "3. Can also just look at Frobenius norm of filter matrix.\n",
    "4. Look at the distribution and decide what to do next."
   ]
  },
  {
   "cell_type": "code",
   "execution_count": 2,
   "metadata": {},
   "outputs": [],
   "source": [
    "model = mdl.get_vgg16()\n",
    "R = nav.npload(\"/src\", \"results\", f\"responses_VGG16\", f\"key=8_hollow=0_scale=1_light=1_lw=1_preproc=2.npy\")"
   ]
  },
  {
   "cell_type": "code",
   "execution_count": 4,
   "metadata": {},
   "outputs": [],
   "source": [
    "def set_to_zero(model, target, id1, id2):\n",
    "    flag = True\n",
    "    for name, param in model.named_parameters():\n",
    "        if name == target:\n",
    "            param_clone = param.clone()\n",
    "            param_clone[id1][id2] = torch.zeros(param_clone[id1][id2].shape)\n",
    "            param.data = param_clone\n",
    "            flag = False\n",
    "    if flag: raise InputError(f\"{target} is not found in model.named_parameters().\")"
   ]
  },
  {
   "cell_type": "code",
   "execution_count": 6,
   "metadata": {},
   "outputs": [],
   "source": [
    "set_to_zero(model, \"features.11.weight\", 435, 0)"
   ]
  },
  {
   "cell_type": "code",
   "execution_count": 10,
   "metadata": {},
   "outputs": [
    {
     "data": {
      "text/plain": [
       "tensor([[0., 0., 0.],\n",
       "        [0., 0., 0.],\n",
       "        [0., 0., 0.]], grad_fn=<SelectBackward0>)"
      ]
     },
     "execution_count": 10,
     "metadata": {},
     "output_type": "execute_result"
    }
   ],
   "source": [
    "params = {name: parameter for name, parameter in model.named_parameters()}\n",
    "params[\"features.11.weight\"][435][0]"
   ]
  },
  {
   "cell_type": "code",
   "execution_count": 12,
   "metadata": {},
   "outputs": [],
   "source": [
    "from copy import deepcopy\n",
    "\n",
    "model2 = deepcopy(model)"
   ]
  },
  {
   "cell_type": "code",
   "execution_count": 13,
   "metadata": {},
   "outputs": [
    {
     "name": "stdout",
     "output_type": "stream",
     "text": [
      "tensor([[-0.0118, -0.0092, -0.0111],\n",
      "        [-0.0070, -0.0173,  0.0005],\n",
      "        [ 0.0148,  0.0177, -0.0007]], grad_fn=<SelectBackward0>)\n",
      "tensor([[0., 0., 0.],\n",
      "        [0., 0., 0.],\n",
      "        [0., 0., 0.]], grad_fn=<SelectBackward0>)\n"
     ]
    }
   ],
   "source": [
    "set_to_zero(model2, \"features.11.weight\", 435, 1)\n",
    "params1 = {name: parameter for name, parameter in model.named_parameters()}\n",
    "params2 = {name: parameter for name, parameter in model2.named_parameters()}\n",
    "print(params1[\"features.11.weight\"][435][1])\n",
    "print(params2[\"features.11.weight\"][435][1])"
   ]
  },
  {
   "cell_type": "code",
   "execution_count": 14,
   "metadata": {},
   "outputs": [],
   "source": [
    "del model2"
   ]
  },
  {
   "cell_type": "markdown",
   "metadata": {},
   "source": []
  },
  {
   "cell_type": "code",
   "execution_count": null,
   "metadata": {},
   "outputs": [],
   "source": []
  }
 ],
 "metadata": {
  "kernelspec": {
   "display_name": "Python 3",
   "language": "python",
   "name": "python3"
  },
  "language_info": {
   "codemirror_mode": {
    "name": "ipython",
    "version": 3
   },
   "file_extension": ".py",
   "mimetype": "text/x-python",
   "name": "python",
   "nbconvert_exporter": "python",
   "pygments_lexer": "ipython3",
   "version": "3.8.10"
  },
  "orig_nbformat": 4
 },
 "nbformat": 4,
 "nbformat_minor": 2
}
