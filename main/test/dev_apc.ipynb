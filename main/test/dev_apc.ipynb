{
 "cells": [
  {
   "cell_type": "code",
   "execution_count": 78,
   "metadata": {},
   "outputs": [
    {
     "name": "stdout",
     "output_type": "stream",
     "text": [
      "The autoreload extension is already loaded. To reload it, use:\n",
      "  %reload_ext autoreload\n"
     ]
    }
   ],
   "source": [
    "%load_ext autoreload\n",
    "%autoreload 2\n",
    "\n",
    "import numpy as np\n",
    "import matplotlib.pyplot as plt\n",
    "import handytools.navigator as nav\n",
    "from spectools.metrics.metrics import cubic_spline, curvature, angle, double_exp_wrap\n",
    "from spectools.solvers import GNSolver"
   ]
  },
  {
   "cell_type": "code",
   "execution_count": 79,
   "metadata": {},
   "outputs": [],
   "source": [
    "shape_coor = nav.pklload(\"/src\", \"data\", \"stimulus\", \"shape_coor.pkl\")"
   ]
  },
  {
   "cell_type": "code",
   "execution_count": 80,
   "metadata": {},
   "outputs": [],
   "source": [
    "xbundle = []\n",
    "for s in range(len(shape_coor)):\n",
    "    anchors = np.array(shape_coor[s]).reshape(-1, 2)\n",
    "    ps, dps, ddps = cubic_spline(anchors)\n",
    "\n",
    "    ks, ts = [], []\n",
    "    for i in range(len(ps)):\n",
    "        k = curvature(dps[i], ddps[i])\n",
    "        t = angle(ps[i])\n",
    "        ks.append(k)\n",
    "        ts.append(t)\n",
    "    ks_ts = np.vstack((ks, ts)).T\n",
    "    xbundle.append(ks_ts)"
   ]
  },
  {
   "cell_type": "code",
   "execution_count": 88,
   "metadata": {},
   "outputs": [],
   "source": [
    "## TODO: this needs to be a readout value\n",
    "\n",
    "R = np.arange(len(xbundle))"
   ]
  },
  {
   "cell_type": "code",
   "execution_count": 89,
   "metadata": {},
   "outputs": [
    {
     "data": {
      "text/plain": [
       "array([ 3.26752486e+02,  4.63323582e+02, -7.85713381e+04, -4.13194470e+05,\n",
       "        2.90853263e+01])"
      ]
     },
     "execution_count": 89,
     "metadata": {},
     "output_type": "execute_result"
    }
   ],
   "source": [
    "gns = GNSolver(fit_function = double_exp_wrap)\n",
    "gns.fit(xbundle, R, init_guess=[-0.75, 0.5, np.pi, np.pi/2, 1])"
   ]
  },
  {
   "cell_type": "code",
   "execution_count": 90,
   "metadata": {},
   "outputs": [],
   "source": [
    "R_pred = gns.predict(xbundle)"
   ]
  },
  {
   "cell_type": "code",
   "execution_count": 91,
   "metadata": {},
   "outputs": [
    {
     "data": {
      "text/plain": [
       "[<matplotlib.lines.Line2D at 0x7fbab86b7970>]"
      ]
     },
     "execution_count": 91,
     "metadata": {},
     "output_type": "execute_result"
    },
    {
     "data": {
      "image/png": "[encoded data removed]",
      "text/plain": [
       "<Figure size 640x480 with 1 Axes>"
      ]
     },
     "metadata": {},
     "output_type": "display_data"
    }
   ],
   "source": [
    "plt.plot(R_pred, R, \"k.\")"
   ]
  },
  {
   "cell_type": "code",
   "execution_count": null,
   "metadata": {},
   "outputs": [],
   "source": []
  }
 ],
 "metadata": {
  "kernelspec": {
   "display_name": "Python 3",
   "language": "python",
   "name": "python3"
  },
  "language_info": {
   "codemirror_mode": {
    "name": "ipython",
    "version": 3
   },
   "file_extension": ".py",
   "mimetype": "text/x-python",
   "name": "python",
   "nbconvert_exporter": "python",
   "pygments_lexer": "ipython3",
   "version": "3.8.10"
  },
  "orig_nbformat": 4
 },
 "nbformat": 4,
 "nbformat_minor": 2
}
