{
 "cells": [
  {
   "cell_type": "code",
   "execution_count": 1,
   "metadata": {},
   "outputs": [],
   "source": [
    "import handytools.navigator as nav"
   ]
  },
  {
   "cell_type": "code",
   "execution_count": 2,
   "metadata": {},
   "outputs": [],
   "source": [
    "mtype = \"AN\"\n",
    "hkey = 6"
   ]
  },
  {
   "cell_type": "code",
   "execution_count": 4,
   "metadata": {},
   "outputs": [
    {
     "name": "stdout",
     "output_type": "stream",
     "text": [
      "FOI, max [227 321 268]\n",
      "FOI, min [ 49 284  55]\n",
      "Ti, max [225  30 356]\n",
      "Ti, min [173 231 227]\n",
      "Ci, max [144 353 360]\n",
      "Ci, min [ 44 248 162]\n"
     ]
    }
   ],
   "source": [
    "units = nav.npload(nav.resultpath, f\"responses_{mtype}\", f\"hkey={hkey}_unitsFoiMax.npy\")\n",
    "print(\"FOI, max\", units)\n",
    "units = nav.npload(nav.resultpath, f\"responses_{mtype}\", f\"hkey={hkey}_unitsFoiMin.npy\")\n",
    "print(\"FOI, min\", units)\n",
    "units = nav.npload(nav.resultpath, f\"responses_{mtype}\", f\"hkey={hkey}_unitsTiMax.npy\")\n",
    "print(\"Ti, max\", units)\n",
    "units = nav.npload(nav.resultpath, f\"responses_{mtype}\", f\"hkey={hkey}_unitsTiMin.npy\")\n",
    "print(\"Ti, min\", units)\n",
    "units = nav.npload(nav.resultpath, f\"responses_{mtype}\", f\"hkey={hkey}_unitsCiMax.npy\")\n",
    "print(\"Ci, max\", units)\n",
    "units = nav.npload(nav.resultpath, f\"responses_{mtype}\", f\"hkey={hkey}_unitsCiMin.npy\")\n",
    "print(\"Ci, min\", units)"
   ]
  },
  {
   "cell_type": "code",
   "execution_count": null,
   "metadata": {},
   "outputs": [],
   "source": []
  }
 ],
 "metadata": {
  "kernelspec": {
   "display_name": "arti3",
   "language": "python",
   "name": "python3"
  },
  "language_info": {
   "codemirror_mode": {
    "name": "ipython",
    "version": 3
   },
   "file_extension": ".py",
   "mimetype": "text/x-python",
   "name": "python",
   "nbconvert_exporter": "python",
   "pygments_lexer": "ipython3",
   "version": "3.10.10"
  },
  "orig_nbformat": 4
 },
 "nbformat": 4,
 "nbformat_minor": 2
}
