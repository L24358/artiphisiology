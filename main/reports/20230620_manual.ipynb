{
 "cells": [
  {
   "attachments": {},
   "cell_type": "markdown",
   "metadata": {},
   "source": [
    "## Overview\n",
    "\n",
    "These are the folders in this repository:\n",
    "1. ``main``: Folder that contains the majority of the scripts. Includes ``analysis`` (code for obtaining/analyzing responses), ``reports`` (jupyter notebooks that usually summarizes/explains results), and others.\n",
    "2. ``handytools``: A subdirectory that contains generally helpful functions.\n",
    "3. ``spectools``: A self-written module containing functions specifically written for this project, including ``metrics`` (defines used metrics, e.g. responsiveness, receptive field), ``models`` (contains models), ``stimulus`` (contains functions that generate stimulus), ``responses.py`` (contains functions that pulls out responses), and others.\n",
    "4. ``data``: Directory that contains data, not pushed onto github but exists in local directory.\n",
    "5. ``graphs``: Directory that contains graphs, not pushed onto github but exists in local directory.\n",
    "\n",
    "## Example Code\n",
    "\n",
    "1. To obtain responses to simple fill-outline stimulus, see ``/main/analysis/exec_response.py``.\n",
    "2. To obtain responses to color stimuli, see ``/main/analysis/exec_color.py``.\n",
    "3. To obtain responses to texture stimulus, see ``/main/analysis/exec_texture.py``.\n",
    "4. To perform backpropagation, run ``/main/analysis/guided_backprop3.py``, then ``get_max_response2.py``.\n",
    "\n",
    "## Notation\n",
    "\n",
    "Some repeatedly used notations are listed below:\n",
    "\n",
    "### Variables\n",
    "1. ``hkey``: hidden keys, i.e. the indices of the layers to \"record\" from. The indices are defined in ``/spectools/models/models.py``.\n",
    "2. ``mtype``: model type, see below for acceptable arguments.\n",
    "\n",
    "### Model Type\n",
    "1. ``AN``: AlexNet\n",
    "2. ``VGG16``: Actually VGG11\n",
    "3. ``VGG16b``: The real VGG16\n",
    "4. ``ResNet18``: ResNet18"
   ]
  },
  {
   "cell_type": "markdown",
   "metadata": {},
   "source": []
  }
 ],
 "metadata": {
  "language_info": {
   "name": "python"
  },
  "orig_nbformat": 4
 },
 "nbformat": 4,
 "nbformat_minor": 2
}
