{
 "cells": [
  {
   "cell_type": "code",
   "execution_count": 15,
   "metadata": {},
   "outputs": [],
   "source": [
    "%load_ext autoreload"
   ]
  },
  {
   "cell_type": "code",
   "execution_count": 27,
   "metadata": {},
   "outputs": [],
   "source": [
    "%autoreload 2\n",
    "\n",
    "import numpy as np\n",
    "import matplotlib.pyplot as plt\n",
    "import matplotlib.image as mpimg\n",
    "import handytools.navigator as nav\n",
    "import handytools.visualizer as vis\n",
    "from spectools.stimulus.wyeth import get_stimulus\n",
    "from spectools.responses import get_response_wrapper, get_drr_wrapper\n",
    "from spectools.metrics.metrics import responsive\n",
    "from spectools.models.models import AN_layer, VGG16b_layer, ResNet18_layer"
   ]
  },
  {
   "cell_type": "code",
   "execution_count": 17,
   "metadata": {},
   "outputs": [],
   "source": [
    "def get_prs(R_fills, R_outlines, hkeys, verbose=False):\n",
    "    prs = {}\n",
    "    respdic = {}\n",
    "    for hkey in hkeys:\n",
    "        R_fill = R_fills[hkey]\n",
    "        R_outline = R_outlines[hkey]\n",
    "\n",
    "        prs[hkey] = np.array([])\n",
    "        respdic[hkey] = []\n",
    "        \n",
    "        for unit in range(R_fill.shape[0]):\n",
    "            resp = responsive(R_fill[unit]) and responsive(R_outline[unit])\n",
    "            if resp:\n",
    "                pr = np.corrcoef(R_fill[unit], R_outline[unit])[0][1]\n",
    "                prs[hkey] = np.append(prs[hkey], pr)\n",
    "                respdic[hkey].append(int(unit))\n",
    "            else:\n",
    "                prs[hkey] = np.append(prs[hkey], np.nan)\n",
    "                if verbose: print(f\"Layer {hkey}, unit {unit} not responsive!\")\n",
    "    return prs, respdic"
   ]
  },
  {
   "cell_type": "code",
   "execution_count": 28,
   "metadata": {},
   "outputs": [
    {
     "name": "stdout",
     "output_type": "stream",
     "text": [
      "Executing the follow missing keys:  []\n",
      "Executing the follow missing keys:  []\n"
     ]
    }
   ],
   "source": [
    "# params\n",
    "hkeys = list(VGG16b_layer.keys())\n",
    "mtype = \"VGG16b\"\n",
    "\n",
    "# params\n",
    "xn = 227\n",
    "sz = 50\n",
    "lw = 1.5\n",
    "fg = 1.0\n",
    "bg = 0.0\n",
    "\n",
    "# fill stimulus\n",
    "fill = get_stimulus(1, xn=xn, sz=sz, lw=lw, fg=fg, bg=bg)\n",
    "fname = lambda hkey: f\"hkey={hkey}_fill=1_xn={xn}_sz={sz}_lw={lw}_fg={fg}_bg={bg}.npy\"\n",
    "R_fills = get_response_wrapper(hkeys, fill, fname, mtype=mtype)\n",
    "\n",
    "# outline stimulus\n",
    "outline = get_stimulus(0, xn=xn, sz=sz, lw=lw, fg=fg, bg=bg)\n",
    "fname = lambda hkey: f\"hkey={hkey}_fill=0_xn={xn}_sz={sz}_lw={lw}_fg={fg}_bg={bg}.npy\"\n",
    "R_outlines = get_response_wrapper(hkeys, outline, fname, mtype=mtype)"
   ]
  },
  {
   "cell_type": "code",
   "execution_count": 30,
   "metadata": {},
   "outputs": [
    {
     "name": "stderr",
     "output_type": "stream",
     "text": [
      "/tmp/ipykernel_66755/1294394116.py:9: RuntimeWarning: divide by zero encountered in scalar divide\n",
      "  TI[hkey].append(np.std(Rtexture)/np.std(Rshape))\n",
      "/tmp/ipykernel_66755/1294394116.py:9: RuntimeWarning: invalid value encountered in scalar divide\n",
      "  TI[hkey].append(np.std(Rtexture)/np.std(Rshape))\n"
     ]
    }
   ],
   "source": [
    "TI = {}\n",
    "for hkey in hkeys:\n",
    "    Rc = nav.npload(nav.resultpath, f\"responses_{mtype}\", f\"hkey={hkey}_TKRc.npy\")\n",
    "    TI[hkey] = []\n",
    "\n",
    "    for Runit in Rc:\n",
    "        Rshape = Runit[:225]\n",
    "        Rtexture = Runit[225:]\n",
    "        TI[hkey].append(np.std(Rtexture)/np.std(Rshape))"
   ]
  },
  {
   "cell_type": "code",
   "execution_count": 31,
   "metadata": {},
   "outputs": [
    {
     "data": {
      "image/png": "[encoded data removed]",
      "text/plain": [
       "<Figure size 640x480 with 1 Axes>"
      ]
     },
     "metadata": {},
     "output_type": "display_data"
    }
   ],
   "source": [
    "prs_an_foi, resp = get_prs(R_fills, R_outlines, hkeys)\n",
    "\n",
    "for hkey in hkeys[1:]:\n",
    "    foi = prs_an_foi[hkey][resp[hkey]]\n",
    "    ti = np.array(TI[hkey])[resp[hkey]]\n",
    "    \n",
    "    plt.scatter(foi, ti)\n",
    "    break"
   ]
  },
  {
   "cell_type": "code",
   "execution_count": null,
   "metadata": {},
   "outputs": [],
   "source": []
  }
 ],
 "metadata": {
  "kernelspec": {
   "display_name": "arti3",
   "language": "python",
   "name": "python3"
  },
  "language_info": {
   "codemirror_mode": {
    "name": "ipython",
    "version": 3
   },
   "file_extension": ".py",
   "mimetype": "text/x-python",
   "name": "python",
   "nbconvert_exporter": "python",
   "pygments_lexer": "ipython3",
   "version": "3.10.10"
  },
  "orig_nbformat": 4
 },
 "nbformat": 4,
 "nbformat_minor": 2
}
