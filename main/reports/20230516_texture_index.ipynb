{
 "cells": [
  {
   "attachments": {},
   "cell_type": "markdown",
   "metadata": {},
   "source": [
    "# Texture Index\n",
    "\n",
    "The texture index (TI) is given by the standard deviation of a unit's response to a varity of images with different textures, divided by the standard deviation of its response to shapes.\n",
    "\n",
    "This is plotted against FOI for different networks."
   ]
  },
  {
   "cell_type": "code",
   "execution_count": 1,
   "metadata": {},
   "outputs": [],
   "source": [
    "%load_ext autoreload"
   ]
  },
  {
   "cell_type": "code",
   "execution_count": 2,
   "metadata": {},
   "outputs": [],
   "source": [
    "%autoreload 2\n",
    "\n",
    "import numpy as np\n",
    "import matplotlib.pyplot as plt\n",
    "import matplotlib.image as mpimg\n",
    "import handytools.navigator as nav\n",
    "import handytools.visualizer as vis\n",
    "from spectools.stimulus.wyeth import get_stimulus\n",
    "from spectools.responses import get_response_wrapper, get_drr_wrapper\n",
    "from spectools.metrics.metrics import responsive\n",
    "from spectools.models.models import AN_layer, VGG16b_layer, ResNet18_layer"
   ]
  },
  {
   "cell_type": "code",
   "execution_count": 3,
   "metadata": {},
   "outputs": [],
   "source": [
    "def get_prs(R_fills, R_outlines, hkeys, verbose=False):\n",
    "    prs = {}\n",
    "    respdic = {}\n",
    "    for hkey in hkeys:\n",
    "        R_fill = R_fills[hkey]\n",
    "        R_outline = R_outlines[hkey]\n",
    "\n",
    "        prs[hkey] = np.array([])\n",
    "        respdic[hkey] = []\n",
    "        \n",
    "        for unit in range(R_fill.shape[0]):\n",
    "            resp = responsive(R_fill[unit]) and responsive(R_outline[unit])\n",
    "            if resp:\n",
    "                pr = np.corrcoef(R_fill[unit], R_outline[unit])[0][1]\n",
    "                prs[hkey] = np.append(prs[hkey], pr)\n",
    "                respdic[hkey].append(int(unit))\n",
    "            else:\n",
    "                prs[hkey] = np.append(prs[hkey], np.nan)\n",
    "                if verbose: print(f\"Layer {hkey}, unit {unit} not responsive!\")\n",
    "    return prs, respdic\n",
    "\n",
    "def linear_fit(x, y):\n",
    "    slope, intercept = np.polyfit(x, y, 1)\n",
    "    y_pred = slope * x + intercept\n",
    "    return x, y_pred"
   ]
  },
  {
   "attachments": {},
   "cell_type": "markdown",
   "metadata": {},
   "source": [
    "## AlexNet"
   ]
  },
  {
   "cell_type": "code",
   "execution_count": 4,
   "metadata": {},
   "outputs": [],
   "source": [
    "# params\n",
    "hkeys = list(AN_layer.keys())[:-3]\n",
    "mtype = \"AN\""
   ]
  },
  {
   "cell_type": "code",
   "execution_count": 5,
   "metadata": {},
   "outputs": [],
   "source": [
    "TI = {}\n",
    "for hkey in hkeys:\n",
    "    Rc = nav.npload(nav.resultpath, f\"responses_{mtype}\", f\"hkey={hkey}_TK_norm=standard.npy\") # originally TKRc\n",
    "    TI[hkey] = []\n",
    "\n",
    "    for Runit in Rc:\n",
    "        Rshape = Runit[:225]\n",
    "        Rtexture = Runit[225:]\n",
    "        TI[hkey].append(np.std(Rtexture)/np.std(Rshape))"
   ]
  },
  {
   "cell_type": "code",
   "execution_count": 6,
   "metadata": {},
   "outputs": [
    {
     "data": {
      "text/plain": [
       "<Figure size 1500x600 with 0 Axes>"
      ]
     },
     "metadata": {},
     "output_type": "display_data"
    }
   ],
   "source": [
    "hkey = 6\n",
    "Rc = nav.npload(nav.resultpath, f\"responses_{mtype}\", f\"hkey={hkey}_TK_norm=standard.npy\")\n",
    "idx_ti = np.argsort(TI[hkey])\n",
    "\n",
    "fig = plt.figure(figsize=(5*3, 2*3))\n",
    "for i in range(5):\n",
    "    ax = fig.add_subplot(2, 5, i+1)\n",
    "    Runit = Rc[idx_ti[i]]\n",
    "    Rshape = Runit[:225]\n",
    "    Rtexture = Runit[225:]\n",
    "    ax.plot(range(225), Rshape, \"k-\")\n",
    "    ax.plot(range(225, 393), Rtexture, \"b-\")\n",
    "    title = round(TI[hkey][idx_ti[i]], 2)\n",
    "    ax.set_title(\"TI = \" + str(title))\n",
    "\n",
    "for j in range(1, 6):\n",
    "    ax = fig.add_subplot(2, 5, i+j+1)\n",
    "    Runit = Rc[idx_ti[-j]]\n",
    "    Rshape = Runit[:225]\n",
    "    Rtexture = Runit[225:]\n",
    "    ax.plot(range(225), Rshape, \"k-\")\n",
    "    ax.plot(range(225, 393), Rtexture, \"b-\")\n",
    "    title = round(TI[hkey][idx_ti[-j]], 2)\n",
    "    ax.set_title(\"TI = \" + str(title))\n",
    "\n",
    "plt.suptitle(f\"Shape-Texture Index of AlexNet, layer {AN_layer[hkey]}\")\n",
    "vis.common_label(fig, \"figure index\", \"response\")\n",
    "plt.tight_layout()\n",
    "vis.savefig(\"ti_AN_example.png\", folders=[\"summary_230526\"])"
   ]
  },
  {
   "cell_type": "code",
   "execution_count": 7,
   "metadata": {},
   "outputs": [],
   "source": [
    "# get foi response\n",
    "xn, sz, lw, fg, bg = 227, 50, 1.5, 1.0, 0.0\n",
    "fill = get_stimulus(1, xn=xn, sz=sz, lw=lw, fg=fg, bg=bg)\n",
    "fname = lambda hkey: f\"hkey={hkey}_fill=1_xn={xn}_sz={sz}_lw={lw}_fg={fg}_bg={bg}.npy\"\n",
    "R_fills = get_response_wrapper(hkeys, fill, fname, mtype=mtype)\n",
    "outline = get_stimulus(0, xn=xn, sz=sz, lw=lw, fg=fg, bg=bg)\n",
    "fname = lambda hkey: f\"hkey={hkey}_fill=0_xn={xn}_sz={sz}_lw={lw}_fg={fg}_bg={bg}.npy\"\n",
    "R_outlines = get_response_wrapper(hkeys, outline, fname, mtype=mtype)\n",
    "prs_an_foi, resp = get_prs(R_fills, R_outlines, hkeys)"
   ]
  },
  {
   "cell_type": "code",
   "execution_count": 8,
   "metadata": {},
   "outputs": [
    {
     "data": {
      "text/plain": [
       "<Figure size 900x600 with 0 Axes>"
      ]
     },
     "metadata": {},
     "output_type": "display_data"
    }
   ],
   "source": [
    "fig = plt.figure(figsize=(3*3, 2*3))\n",
    "\n",
    "pos = [\"lr\", \"lr\", \"ll\", \"ll\", \"lr\"]\n",
    "for i in range(len(hkeys)):\n",
    "    hkey = hkeys[i]\n",
    "    foi = prs_an_foi[hkey][resp[hkey]]\n",
    "    ti = np.array(TI[hkey])[resp[hkey]]\n",
    "    x, y = np.log(ti), np.arctanh(foi)\n",
    "    pr = np.corrcoef(x, y)[0][1]\n",
    "    coors = vis.get_location(pos[i], [min(x), max(x)], [min(y), max(y)])\n",
    "    \n",
    "    ax = fig.add_subplot(2, 3, i+1)\n",
    "    ax.scatter(x, y, color=\"k\", s=10)\n",
    "    ax.plot(*linear_fit(x, y), color=\"b\", linestyle=\"--\")\n",
    "    ax.set_title(AN_layer[hkey])\n",
    "    vis.add_textbox(f\"\\u03C1 = {round(pr, 2)}\", *coors, ax=ax, alpha=0.5)\n",
    "\n",
    "vis.common_label(fig, \"log(TI)\", \"arctanh(FOI)\")\n",
    "plt.suptitle(\"FOI v TI for AlexNet\")\n",
    "plt.tight_layout()\n",
    "vis.savefig(\"ti_AN.png\", folders=[\"summary_230526\"])"
   ]
  },
  {
   "cell_type": "code",
   "execution_count": 12,
   "metadata": {},
   "outputs": [
    {
     "name": "stdout",
     "output_type": "stream",
     "text": [
      "This is the (x,y) coordinate of the max. unit 66:  -0.08297882 2.2524419983251684\n",
      "This is the (x,y) coordinate of the max. unit 15:  1.3905702 0.03007531501076111\n"
     ]
    }
   ],
   "source": [
    "hkey = 6\n",
    "foi = prs_an_foi[hkey][resp[hkey]]\n",
    "ti = np.array(TI[hkey])[resp[hkey]]\n",
    "x, y = np.log(ti), np.arctanh(foi)\n",
    "\n",
    "idx_max = np.argmax(y - x)\n",
    "print(f\"This is the (x,y) coordinate of the max. unit {idx_max}: \", x[idx_max], y[idx_max])\n",
    "idx_min = np.argmin(y) # y-x yields 21, y alone yields 15\n",
    "print(f\"This is the (x,y) coordinate of the max. unit {idx_min}: \", x[idx_min], y[idx_min])"
   ]
  },
  {
   "cell_type": "code",
   "execution_count": 22,
   "metadata": {},
   "outputs": [
    {
     "name": "stdout",
     "output_type": "stream",
     "text": [
      "[57 58 66 69 87]\n",
      "[15 21 79]\n"
     ]
    }
   ],
   "source": [
    "# Find specific unit\n",
    "\n",
    "hkey = 6\n",
    "foi = prs_an_foi[hkey][resp[hkey]]\n",
    "ti = np.array(TI[hkey])[resp[hkey]]\n",
    "\n",
    "units = np.where((foi > 0.8) & (ti < 1))[0]\n",
    "print(units)\n",
    "nav.npsave(units, nav.resultpath, f\"responses_{mtype}\", f\"hkey={hkey}_unitsTiMin.npy\")\n",
    "\n",
    "units = np.where((foi < 0.3))[0]\n",
    "print(units)\n",
    "nav.npsave(units, nav.resultpath, f\"responses_{mtype}\", f\"hkey={hkey}_unitsTiMax.npy\")"
   ]
  },
  {
   "attachments": {},
   "cell_type": "markdown",
   "metadata": {},
   "source": [
    "## VGG16"
   ]
  },
  {
   "cell_type": "code",
   "execution_count": 23,
   "metadata": {},
   "outputs": [],
   "source": [
    "# params\n",
    "hkeys = list(VGG16b_layer.keys())[:-3]\n",
    "mtype = \"VGG16b\""
   ]
  },
  {
   "cell_type": "code",
   "execution_count": 24,
   "metadata": {},
   "outputs": [],
   "source": [
    "TI = {}\n",
    "func = np.std\n",
    "for hkey in hkeys:\n",
    "    Rc = nav.npload(nav.resultpath, f\"responses_{mtype}\", f\"hkey={hkey}_TK_norm=standard.npy\")\n",
    "    TI[hkey] = []\n",
    "\n",
    "    for Runit in Rc:\n",
    "        Rshape = Runit[:225]\n",
    "        Rtexture = Runit[225:]\n",
    "        TI[hkey].append(func(Rtexture)/func(Rshape))"
   ]
  },
  {
   "cell_type": "code",
   "execution_count": 25,
   "metadata": {},
   "outputs": [
    {
     "data": {
      "text/plain": [
       "<Figure size 1500x600 with 0 Axes>"
      ]
     },
     "metadata": {},
     "output_type": "display_data"
    }
   ],
   "source": [
    "hkey = 19\n",
    "Rc = nav.npload(nav.resultpath, f\"responses_{mtype}\", f\"hkey={hkey}_TK_norm=standard.npy\")\n",
    "idx_ti = np.argsort(TI[hkey])\n",
    "\n",
    "fig = plt.figure(figsize=(5*3, 2*3))\n",
    "for i in range(5):\n",
    "    ax = fig.add_subplot(2, 5, i+1)\n",
    "    Runit = Rc[idx_ti[i]]\n",
    "    Rshape = Runit[:225]\n",
    "    Rtexture = Runit[225:]\n",
    "    ax.plot(range(225), Rshape, \"k-\")\n",
    "    ax.plot(range(225, 393), Rtexture, \"b-\")\n",
    "    title = round(TI[hkey][idx_ti[i]], 2)\n",
    "    ax.set_title(\"TI = \" + str(title))\n",
    "\n",
    "j = 1\n",
    "count = 1\n",
    "while count <= 5:\n",
    "    Runit = Rc[idx_ti[-j]]\n",
    "\n",
    "    if np.mean(Runit) != 0:\n",
    "        Rshape = Runit[:225]\n",
    "        Rtexture = Runit[225:]\n",
    "        ax = fig.add_subplot(2, 5, i+count+1)\n",
    "        ax.plot(range(225), Rshape, \"k-\")\n",
    "        ax.plot(range(225, 393), Rtexture, \"b-\")\n",
    "        title = round(TI[hkey][idx_ti[-j]], 2)\n",
    "        ax.set_title(\"TI = \" + str(title))\n",
    "        count += 1\n",
    "\n",
    "    j += 1\n",
    "\n",
    "vis.common_label(fig, \"Texture index\", \"FOI\")\n",
    "plt.suptitle(f\"Shape-Texture Index of VGG16, layer {VGG16b_layer[hkey]}\")\n",
    "plt.tight_layout()\n",
    "vis.savefig(\"ti_VGG16b_example.png\", folders=[\"summary_230526\"])"
   ]
  },
  {
   "cell_type": "code",
   "execution_count": 26,
   "metadata": {},
   "outputs": [],
   "source": [
    "# get foi response\n",
    "xn, sz, lw, fg, bg = 227, 50, 1.5, 1.0, 0.0\n",
    "fill = get_stimulus(1, xn=xn, sz=sz, lw=lw, fg=fg, bg=bg)\n",
    "fname = lambda hkey: f\"hkey={hkey}_fill=1_xn={xn}_sz={sz}_lw={lw}_fg={fg}_bg={bg}.npy\"\n",
    "R_fills = get_response_wrapper(hkeys, fill, fname, mtype=mtype)\n",
    "outline = get_stimulus(0, xn=xn, sz=sz, lw=lw, fg=fg, bg=bg)\n",
    "fname = lambda hkey: f\"hkey={hkey}_fill=0_xn={xn}_sz={sz}_lw={lw}_fg={fg}_bg={bg}.npy\"\n",
    "R_outlines = get_response_wrapper(hkeys, outline, fname, mtype=mtype)\n",
    "prs_vgg16_foi, resp = get_prs(R_fills, R_outlines, hkeys)"
   ]
  },
  {
   "cell_type": "code",
   "execution_count": 27,
   "metadata": {},
   "outputs": [
    {
     "data": {
      "text/plain": [
       "<Figure size 900x1500 with 0 Axes>"
      ]
     },
     "metadata": {},
     "output_type": "display_data"
    }
   ],
   "source": [
    "fig = plt.figure(figsize=(3*3, 5*3))\n",
    "\n",
    "pos = [\"ul\", \"lr\", \"lr\", \"ll\", \"ur\", \"ll\"] + [\"ll\"]*13\n",
    "for i in range(len(hkeys)):\n",
    "    hkey = hkeys[i]\n",
    "    foi = prs_vgg16_foi[hkey][resp[hkey]]\n",
    "    ti = np.array(TI[hkey])[resp[hkey]]\n",
    "    x, y = np.log(ti), np.arctanh(foi)\n",
    "    pr = np.corrcoef(x, y)[0][1]\n",
    "    coors = vis.get_location(pos[i], [min(x), max(x)], [min(y), max(y)])\n",
    "    \n",
    "    ax = fig.add_subplot(5, 3, i+1)\n",
    "    ax.scatter(x, y, color=\"k\", s=10)\n",
    "    ax.plot(*linear_fit(x, y), color=\"b\", linestyle=\"--\")\n",
    "    ax.set_title(VGG16b_layer[hkey])\n",
    "    vis.add_textbox(f\"\\u03C1 = {round(pr, 2)}\", *coors, ax=ax, alpha=0.5)\n",
    "\n",
    "vis.common_label(fig, \"log(TI)\", \"arctanh(FOI)\")\n",
    "plt.suptitle(\"FOI v TI for VGG16\")\n",
    "plt.tight_layout()\n",
    "vis.savefig(\"ti_VGG16b.png\", folders=[\"summary_230526\"])"
   ]
  },
  {
   "cell_type": "code",
   "execution_count": 28,
   "metadata": {},
   "outputs": [
    {
     "name": "stdout",
     "output_type": "stream",
     "text": [
      "[ 12  17  20  38  41  47  53  66 106 109 145 169 214 245 254 268]\n",
      "[126 132 162]\n"
     ]
    }
   ],
   "source": [
    "# Find specific unit\n",
    "\n",
    "hkey = hkeys[8] # conv9, =19\n",
    "foi = prs_vgg16_foi[hkey][resp[hkey]]\n",
    "ti = np.array(TI[hkey])[resp[hkey]]\n",
    "\n",
    "units = np.where((foi > 0.8) & (ti < 1))[0]\n",
    "print(units)\n",
    "nav.npsave(units, nav.resultpath, f\"responses_{mtype}\", f\"hkey={hkey}_unitsTiMin.npy\")\n",
    "\n",
    "units = np.where((foi < 0.55))[0]\n",
    "print(units)\n",
    "nav.npsave(units, nav.resultpath, f\"responses_{mtype}\", f\"hkey={hkey}_unitsTiMax.npy\")"
   ]
  },
  {
   "attachments": {},
   "cell_type": "markdown",
   "metadata": {},
   "source": [
    "## ResNet18"
   ]
  },
  {
   "cell_type": "code",
   "execution_count": 13,
   "metadata": {},
   "outputs": [],
   "source": [
    "# params\n",
    "hkeys = list(ResNet18_layer.keys())\n",
    "mtype = \"ResNet18\""
   ]
  },
  {
   "cell_type": "code",
   "execution_count": 14,
   "metadata": {},
   "outputs": [],
   "source": [
    "TI = {}\n",
    "for hkey in hkeys:\n",
    "    Rc = nav.npload(nav.resultpath, f\"responses_{mtype}\", f\"hkey={hkey}_TK_norm=standard.npy\")\n",
    "    TI[hkey] = []\n",
    "\n",
    "    for Runit in Rc:\n",
    "        Rshape = Runit[:225]\n",
    "        Rtexture = Runit[225:]\n",
    "        TI[hkey].append(np.std(Rtexture)/np.std(Rshape))"
   ]
  },
  {
   "cell_type": "code",
   "execution_count": 15,
   "metadata": {},
   "outputs": [
    {
     "data": {
      "text/plain": [
       "<Figure size 1500x600 with 0 Axes>"
      ]
     },
     "metadata": {},
     "output_type": "display_data"
    }
   ],
   "source": [
    "hkey = 8\n",
    "Rc = nav.npload(nav.resultpath, f\"responses_{mtype}\", f\"hkey={hkey}_TK_norm=standard.npy\")\n",
    "idx_ti = np.argsort(TI[hkey])\n",
    "\n",
    "fig = plt.figure(figsize=(5*3, 2*3))\n",
    "for i in range(5):\n",
    "    ax = fig.add_subplot(2, 5, i+1)\n",
    "    Runit = Rc[idx_ti[i]]\n",
    "    Rshape = Runit[:225]\n",
    "    Rtexture = Runit[225:]\n",
    "    ax.plot(range(225), Rshape, \"k-\")\n",
    "    ax.plot(range(225, 393), Rtexture, \"b-\")\n",
    "    title = round(TI[hkey][idx_ti[i]], 2)\n",
    "    ax.set_title(\"TI = \" + str(title))\n",
    "\n",
    "j = 1\n",
    "count = 1\n",
    "while count <= 5:\n",
    "    Runit = Rc[idx_ti[-j]]\n",
    "\n",
    "    if np.mean(Runit) != 0:\n",
    "        Rshape = Runit[:225]\n",
    "        Rtexture = Runit[225:]\n",
    "        ax = fig.add_subplot(2, 5, i+count+1)\n",
    "        ax.plot(range(225), Rshape, \"k-\")\n",
    "        ax.plot(range(225, 393), Rtexture, \"b-\")\n",
    "        title = round(TI[hkey][idx_ti[-j]], 2)\n",
    "        ax.set_title(\"TI = \" + str(title))\n",
    "        count += 1\n",
    "\n",
    "    j += 1\n",
    "\n",
    "vis.common_label(fig, \"Texture index\", \"FOI\")\n",
    "plt.suptitle(f\"Shape-Texture Index of ResNet18, layer {ResNet18_layer[hkey]}\")\n",
    "plt.tight_layout()\n",
    "vis.savefig(\"ti_ResNet18_example.png\", folders=[\"summary_230526\"])"
   ]
  },
  {
   "cell_type": "code",
   "execution_count": 16,
   "metadata": {},
   "outputs": [],
   "source": [
    "# get foi response\n",
    "xn, sz, lw, fg, bg = 227, 50, 1.5, 1.0, 0.0\n",
    "fill = get_stimulus(1, xn=xn, sz=sz, lw=lw, fg=fg, bg=bg)\n",
    "fname = lambda hkey: f\"hkey={hkey}_fill=1_xn={xn}_sz={sz}_lw={lw}_fg={fg}_bg={bg}.npy\"\n",
    "R_fills = get_response_wrapper(hkeys, fill, fname, mtype=mtype)\n",
    "outline = get_stimulus(0, xn=xn, sz=sz, lw=lw, fg=fg, bg=bg)\n",
    "fname = lambda hkey: f\"hkey={hkey}_fill=0_xn={xn}_sz={sz}_lw={lw}_fg={fg}_bg={bg}.npy\"\n",
    "R_outlines = get_response_wrapper(hkeys, outline, fname, mtype=mtype)\n",
    "prs_resnet18_foi, resp = get_prs(R_fills, R_outlines, hkeys)"
   ]
  },
  {
   "cell_type": "code",
   "execution_count": 17,
   "metadata": {},
   "outputs": [
    {
     "data": {
      "text/plain": [
       "<Figure size 900x900 with 0 Axes>"
      ]
     },
     "metadata": {},
     "output_type": "display_data"
    }
   ],
   "source": [
    "fig = plt.figure(figsize=(3*3, 3*3))\n",
    "\n",
    "pos = [\"lr\"] + [\"ur\"]*len(hkeys)\n",
    "for i in range(len(hkeys)):\n",
    "    hkey = hkeys[i]\n",
    "    foi = prs_resnet18_foi[hkey][resp[hkey]]\n",
    "    ti = np.array(TI[hkey])[resp[hkey]]\n",
    "    x, y = np.log(ti), np.arctanh(foi)\n",
    "    pr = np.corrcoef(x, y)[0][1]\n",
    "    coors = vis.get_location(pos[i], [min(x), max(x)], [min(y), max(y)])\n",
    "    \n",
    "    ax = fig.add_subplot(3, 3, i+1)\n",
    "    ax.scatter(x, y, color=\"k\", s=10)\n",
    "    ax.plot(*linear_fit(x, y), color=\"b\", linestyle=\"--\")\n",
    "    ax.set_title(ResNet18_layer[hkey])\n",
    "    vis.add_textbox(f\"\\u03C1 = {round(pr, 2)}\", *coors, ax=ax, alpha=0.5)\n",
    "\n",
    "vis.common_label(fig, \"log(TI)\", \"arctanh(FOI)\")\n",
    "plt.suptitle(\"FOI v TI for ResNet18\")\n",
    "plt.tight_layout()\n",
    "vis.savefig(\"ti_ResNet18.png\", folders=[\"summary_230526\"])"
   ]
  },
  {
   "cell_type": "code",
   "execution_count": 20,
   "metadata": {},
   "outputs": [
    {
     "name": "stdout",
     "output_type": "stream",
     "text": [
      "This is the (x,y) coordinate of the max. unit 67:  -0.8588488 1.3529242010794227\n",
      "This is the (x,y) coordinate of the max. unit 35:  1.3784872 0.4763129881098487\n"
     ]
    }
   ],
   "source": [
    "hkey = hkeys[5]\n",
    "foi = prs_resnet18_foi[hkey][resp[hkey]]\n",
    "ti = np.array(TI[hkey])[resp[hkey]]\n",
    "x, y = np.log(ti), np.arctanh(foi)\n",
    "\n",
    "idx_max = np.argmax(y - x)\n",
    "print(f\"This is the (x,y) coordinate of the max. unit {idx_max}: \", x[idx_max], y[idx_max])\n",
    "idx_min = np.argmin(y - x) # y-x yields 21, y alone yields 15\n",
    "print(f\"This is the (x,y) coordinate of the max. unit {idx_min}: \", x[idx_min], y[idx_min])"
   ]
  },
  {
   "cell_type": "code",
   "execution_count": 34,
   "metadata": {},
   "outputs": [
    {
     "name": "stdout",
     "output_type": "stream",
     "text": [
      "[ 12  20  37  39  41  46  48  67  85 111 115 126 131 134 145 155 158 172\n",
      " 179 189]\n",
      "[ 66  77 140 176]\n"
     ]
    }
   ],
   "source": [
    "# Find specific unit\n",
    "\n",
    "hkey = hkeys[5] # bb3.1, =8\n",
    "foi = prs_resnet18_foi[hkey][resp[hkey]]\n",
    "ti = np.array(TI[hkey])[resp[hkey]]\n",
    "\n",
    "units = np.where((foi > 0.8) & (ti < 1))[0]\n",
    "print(units)\n",
    "nav.npsave(units, nav.resultpath, f\"responses_{mtype}\", f\"hkey={hkey}_unitsTiMin.npy\")\n",
    "\n",
    "units = np.where((foi < 0.1))[0]\n",
    "print(units)\n",
    "nav.npsave(units, nav.resultpath, f\"responses_{mtype}\", f\"hkey={hkey}_unitsTiMax.npy\")"
   ]
  },
  {
   "cell_type": "code",
   "execution_count": null,
   "metadata": {},
   "outputs": [],
   "source": []
  }
 ],
 "metadata": {
  "kernelspec": {
   "display_name": "arti3",
   "language": "python",
   "name": "python3"
  },
  "language_info": {
   "codemirror_mode": {
    "name": "ipython",
    "version": 3
   },
   "file_extension": ".py",
   "mimetype": "text/x-python",
   "name": "python",
   "nbconvert_exporter": "python",
   "pygments_lexer": "ipython3",
   "version": "3.10.10"
  },
  "orig_nbformat": 4
 },
 "nbformat": 4,
 "nbformat_minor": 2
}
