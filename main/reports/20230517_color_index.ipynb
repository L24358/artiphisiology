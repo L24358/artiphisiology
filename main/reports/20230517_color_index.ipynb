{
 "cells": [
  {
   "cell_type": "code",
   "execution_count": 2,
   "metadata": {},
   "outputs": [],
   "source": [
    "import torch\n",
    "import numpy as np\n",
    "import matplotlib.pyplot as plt\n",
    "import spectools.models.models as mdl\n",
    "import handytools.visualizer as vis\n",
    "import handytools.navigator as nav\n",
    "from copy import deepcopy\n",
    "from spectools.stimulus.dataloader import get_50000_images\n",
    "from spectools.responses import get_response_wrapper\n",
    "from spectools.stimulus.wyeth import get_stimulus\n",
    "from spectools.responses import get_response_wrapper\n",
    "from spectools.metrics.metrics import responsive\n",
    "from spectools.models.models import AN_layer, VGG16b_layer, ResNet18_layer"
   ]
  },
  {
   "cell_type": "code",
   "execution_count": 3,
   "metadata": {},
   "outputs": [],
   "source": [
    "def get_prs(R_fills, R_outlines, hkeys, verbose=False):\n",
    "    prs = {}\n",
    "    respdic = {}\n",
    "    for hkey in hkeys:\n",
    "        R_fill = R_fills[hkey]\n",
    "        R_outline = R_outlines[hkey]\n",
    "\n",
    "        prs[hkey] = np.array([])\n",
    "        respdic[hkey] = []\n",
    "        \n",
    "        for unit in range(R_fill.shape[0]):\n",
    "            resp = responsive(R_fill[unit]) and responsive(R_outline[unit])\n",
    "            if resp:\n",
    "                pr = np.corrcoef(R_fill[unit], R_outline[unit])[0][1]\n",
    "                prs[hkey] = np.append(prs[hkey], pr)\n",
    "                respdic[hkey].append(int(unit))\n",
    "            else:\n",
    "                prs[hkey] = np.append(prs[hkey], np.nan)\n",
    "                if verbose: print(f\"Layer {hkey}, unit {unit} not responsive!\")\n",
    "    return prs, respdic"
   ]
  },
  {
   "cell_type": "code",
   "execution_count": 4,
   "metadata": {},
   "outputs": [],
   "source": [
    "# params\n",
    "mtype = \"AN\"\n",
    "seed = 42\n",
    "np.random.seed(seed)"
   ]
  },
  {
   "cell_type": "code",
   "execution_count": 5,
   "metadata": {},
   "outputs": [],
   "source": [
    "# define input\n",
    "B = 200\n",
    "random_idxs = np.random.choice(range(50000), B)\n",
    "dataset = get_50000_images(random_idxs)\n",
    "X = [dataset[idx].unsqueeze(0) for idx in range(B)]\n",
    "X = torch.vstack(X)\n",
    "\n",
    "# define models\n",
    "if mtype == \"AN\": mfunc = mdl.get_alexnet; ldic = mdl.AN_layer\n",
    "elif mtype == \"VGG16\": mfunc = mdl.get_vgg16; ldic = mdl.VGG16_layer\n",
    "elif mtype == \"VGG16b\": mfunc = mdl.get_vgg16b; ldic = mdl.VGG16b_layer\n",
    "hkeys = list(ldic.keys())[:-3]\n",
    "model = mfunc(hidden_keys=hkeys)"
   ]
  },
  {
   "cell_type": "code",
   "execution_count": 6,
   "metadata": {},
   "outputs": [
    {
     "name": "stdout",
     "output_type": "stream",
     "text": [
      "(6, 256, 200) (256,) (256,)\n"
     ]
    }
   ],
   "source": [
    "# permutation\n",
    "permts = [(0,1,2), (0,2,1), (1,0,2), (1,2,0), (2,0,1), (2,1,0)]\n",
    "\n",
    "Rcs_all = {}\n",
    "for hkey in hkeys: Rcs_all[hkey] = [] \n",
    "\n",
    "for permt in permts:\n",
    "    X_copy = deepcopy(X)\n",
    "    X_permt = X_copy[:, permt]\n",
    "\n",
    "    permt_str = \":\".join([str(i) for i in permt])\n",
    "    fname = lambda hkey: f\"hkey={hkey}_rotatecolor_permt={permt_str}_seed={seed}.npy\"\n",
    "    Rcs = get_response_wrapper(hkeys, X_permt, fname, mtype=mtype, save=True) # key=hkey, value.shape=(#units, B)\n",
    "\n",
    "    for hkey in hkeys:\n",
    "        Rcs_all[hkey].append([Rcs[hkey]])\n",
    "\n",
    "colordic = {}\n",
    "for hkey in hkeys:\n",
    "    Rcs = Rcs_all[hkey] = np.vstack(Rcs_all[hkey]) # value.shape = (6, #units, B)\n",
    "    base = Rcs[0].std(axis=1) # shape = (#units,)\n",
    "    color_indices = Rcs.std(axis=0).mean(axis=1)/base # shape = (#units,)\n",
    "    colordic[hkey] = color_indices\n",
    "\n",
    "# for sanity check\n",
    "print(Rcs.shape, base.shape, color_indices.shape)"
   ]
  },
  {
   "cell_type": "code",
   "execution_count": 7,
   "metadata": {},
   "outputs": [],
   "source": [
    "# get foi response\n",
    "xn, sz, lw, fg, bg = 227, 50, 1.5, 1.0, 0.0\n",
    "fill = get_stimulus(1, xn=xn, sz=sz, lw=lw, fg=fg, bg=bg)\n",
    "fname = lambda hkey: f\"hkey={hkey}_fill=1_xn={xn}_sz={sz}_lw={lw}_fg={fg}_bg={bg}.npy\"\n",
    "R_fills = get_response_wrapper(hkeys, fill, fname, mtype=mtype)\n",
    "outline = get_stimulus(0, xn=xn, sz=sz, lw=lw, fg=fg, bg=bg)\n",
    "fname = lambda hkey: f\"hkey={hkey}_fill=0_xn={xn}_sz={sz}_lw={lw}_fg={fg}_bg={bg}.npy\"\n",
    "R_outlines = get_response_wrapper(hkeys, outline, fname, mtype=mtype)\n",
    "prs_an_foi, resp = get_prs(R_fills, R_outlines, hkeys)"
   ]
  },
  {
   "cell_type": "code",
   "execution_count": 8,
   "metadata": {},
   "outputs": [
    {
     "data": {
      "text/plain": [
       "<Figure size 900x600 with 0 Axes>"
      ]
     },
     "metadata": {},
     "output_type": "display_data"
    }
   ],
   "source": [
    "fig = plt.figure(figsize=(3*3, 2*3))\n",
    "\n",
    "for i in range(len(hkeys)):\n",
    "    hkey = hkeys[i]\n",
    "    foi = prs_an_foi[hkey][resp[hkey]]\n",
    "    ti = np.array(colordic[hkey])[resp[hkey]]\n",
    "    \n",
    "    ax = fig.add_subplot(2, 3, i+1)\n",
    "    ax.scatter(ti, foi, color=\"k\", s=10)\n",
    "    ax.set_title(AN_layer[hkey])\n",
    "\n",
    "vis.common_label(fig, \"Color index\", \"FOI\")\n",
    "plt.suptitle(\"FOI v CI for AlexNet\")\n",
    "plt.tight_layout()\n",
    "vis.savefig(\"ci_AN.png\", folders=[\"summary_230526\"])"
   ]
  },
  {
   "cell_type": "code",
   "execution_count": 11,
   "metadata": {},
   "outputs": [
    {
     "name": "stdout",
     "output_type": "stream",
     "text": [
      "[13 32 36 56 57 58 66 84]\n"
     ]
    }
   ],
   "source": [
    "# Find specific unit\n",
    "\n",
    "hkey = 6\n",
    "foi = prs_an_foi[hkey][resp[hkey]]\n",
    "ti = np.array(colordic[hkey])[resp[hkey]]\n",
    "\n",
    "units = np.where((foi > 0.8) & (ti < 0.15))[0]\n",
    "print(units)\n",
    "nav.npsave(units, nav.resultpath, f\"responses_{mtype}\", f\"hkey={hkey}_unitsCiMin.npy\")"
   ]
  },
  {
   "cell_type": "code",
   "execution_count": 12,
   "metadata": {},
   "outputs": [],
   "source": [
    "# params\n",
    "mtype = \"VGG16b\"\n",
    "seed = 42\n",
    "np.random.seed(seed)"
   ]
  },
  {
   "cell_type": "code",
   "execution_count": 13,
   "metadata": {},
   "outputs": [],
   "source": [
    "# define input\n",
    "B = 200\n",
    "random_idxs = np.random.choice(range(50000), B)\n",
    "dataset = get_50000_images(random_idxs)\n",
    "X = [dataset[idx].unsqueeze(0) for idx in range(B)]\n",
    "X = torch.vstack(X)\n",
    "\n",
    "# define models\n",
    "if mtype == \"AN\": mfunc = mdl.get_alexnet; ldic = mdl.AN_layer\n",
    "elif mtype == \"VGG16\": mfunc = mdl.get_vgg16; ldic = mdl.VGG16_layer\n",
    "elif mtype == \"VGG16b\": mfunc = mdl.get_vgg16b; ldic = mdl.VGG16b_layer\n",
    "hkeys = list(ldic.keys())[:-3]\n",
    "model = mfunc(hidden_keys=hkeys)"
   ]
  },
  {
   "cell_type": "code",
   "execution_count": 14,
   "metadata": {},
   "outputs": [
    {
     "name": "stderr",
     "output_type": "stream",
     "text": [
      "/tmp/ipykernel_209333/1627143141.py:22: RuntimeWarning: divide by zero encountered in divide\n",
      "  color_indices = Rcs.std(axis=0).mean(axis=1)/base # shape = (#units,)\n",
      "/tmp/ipykernel_209333/1627143141.py:22: RuntimeWarning: invalid value encountered in divide\n",
      "  color_indices = Rcs.std(axis=0).mean(axis=1)/base # shape = (#units,)\n"
     ]
    }
   ],
   "source": [
    "# permutation\n",
    "permts = [(0,1,2), (0,2,1), (1,0,2), (1,2,0), (2,0,1), (2,1,0)]\n",
    "\n",
    "Rcs_all = {}\n",
    "for hkey in hkeys: Rcs_all[hkey] = [] \n",
    "\n",
    "for permt in permts:\n",
    "    X_copy = deepcopy(X)\n",
    "    X_permt = X_copy[:, permt]\n",
    "\n",
    "    permt_str = \":\".join([str(i) for i in permt])\n",
    "    fname = lambda hkey: f\"hkey={hkey}_rotatecolor_permt={permt_str}_seed={seed}.npy\"\n",
    "    Rcs = get_response_wrapper(hkeys, X_permt, fname, mtype=mtype, save=True) # key=hkey, value.shape=(#units, B)\n",
    "\n",
    "    for hkey in hkeys:\n",
    "        Rcs_all[hkey].append([Rcs[hkey]])\n",
    "\n",
    "colordic = {}\n",
    "for hkey in hkeys:\n",
    "    Rcs = Rcs_all[hkey] = np.vstack(Rcs_all[hkey]) # value.shape = (6, #units, B)\n",
    "    base = Rcs[0].std(axis=1) # shape = (#units,)\n",
    "    color_indices = Rcs.std(axis=0).mean(axis=1)/base # shape = (#units,)\n",
    "    colordic[hkey] = color_indices"
   ]
  },
  {
   "cell_type": "code",
   "execution_count": 15,
   "metadata": {},
   "outputs": [],
   "source": [
    "# get foi response\n",
    "xn, sz, lw, fg, bg = 227, 50, 1.5, 1.0, 0.0\n",
    "fill = get_stimulus(1, xn=xn, sz=sz, lw=lw, fg=fg, bg=bg)\n",
    "fname = lambda hkey: f\"hkey={hkey}_fill=1_xn={xn}_sz={sz}_lw={lw}_fg={fg}_bg={bg}.npy\"\n",
    "R_fills = get_response_wrapper(hkeys, fill, fname, mtype=mtype)\n",
    "outline = get_stimulus(0, xn=xn, sz=sz, lw=lw, fg=fg, bg=bg)\n",
    "fname = lambda hkey: f\"hkey={hkey}_fill=0_xn={xn}_sz={sz}_lw={lw}_fg={fg}_bg={bg}.npy\"\n",
    "R_outlines = get_response_wrapper(hkeys, outline, fname, mtype=mtype)\n",
    "prs_an_foi, resp = get_prs(R_fills, R_outlines, hkeys)"
   ]
  },
  {
   "cell_type": "code",
   "execution_count": 16,
   "metadata": {},
   "outputs": [
    {
     "data": {
      "text/plain": [
       "<Figure size 900x1500 with 0 Axes>"
      ]
     },
     "metadata": {},
     "output_type": "display_data"
    }
   ],
   "source": [
    "fig = plt.figure(figsize=(3*3, 5*3))\n",
    "\n",
    "for i in range(len(hkeys)):\n",
    "    hkey = hkeys[i]\n",
    "    foi = prs_an_foi[hkey][resp[hkey]]\n",
    "    ti = np.array(colordic[hkey])[resp[hkey]]\n",
    "    mask = np.where(ti < 0.2)[0]\n",
    "    \n",
    "    ax = fig.add_subplot(5, 3, i+1)\n",
    "    ax.scatter(ti[mask], foi[mask], color=\"k\", s=10)\n",
    "    ax.set_title(VGG16b_layer[hkey])\n",
    "\n",
    "vis.common_label(fig, \"Color index\", \"FOI\")\n",
    "plt.suptitle(\"FOI v CI for VGG16\")\n",
    "plt.tight_layout()\n",
    "vis.savefig(\"ci_VGG16b.png\", folders=[\"summary_230526\"])"
   ]
  },
  {
   "cell_type": "code",
   "execution_count": 17,
   "metadata": {},
   "outputs": [],
   "source": [
    "# params\n",
    "mtype = \"ResNet18\"\n",
    "seed = 42\n",
    "np.random.seed(seed)"
   ]
  },
  {
   "cell_type": "code",
   "execution_count": 18,
   "metadata": {},
   "outputs": [],
   "source": [
    "# define input\n",
    "B = 200\n",
    "random_idxs = np.random.choice(range(50000), B)\n",
    "dataset = get_50000_images(random_idxs)\n",
    "X = [dataset[idx].unsqueeze(0) for idx in range(B)]\n",
    "X = torch.vstack(X)\n",
    "\n",
    "# define models\n",
    "if mtype == \"AN\": mfunc = mdl.get_alexnet; ldic = mdl.AN_layer\n",
    "elif mtype == \"VGG16\": mfunc = mdl.get_vgg16; ldic = mdl.VGG16_layer\n",
    "elif mtype == \"VGG16b\": mfunc = mdl.get_vgg16b; ldic = mdl.VGG16b_layer\n",
    "elif mtype == \"ResNet18\": mfunc = mdl.get_resnet18; ldic = mdl.ResNet18_layer\n",
    "hkeys = list(ldic.keys())\n",
    "model = mfunc(hidden_keys=hkeys)"
   ]
  },
  {
   "cell_type": "code",
   "execution_count": 19,
   "metadata": {},
   "outputs": [],
   "source": [
    "# permutation\n",
    "permts = [(0,1,2), (0,2,1), (1,0,2), (1,2,0), (2,0,1), (2,1,0)]\n",
    "\n",
    "Rcs_all = {}\n",
    "for hkey in hkeys: Rcs_all[hkey] = [] \n",
    "\n",
    "for permt in permts:\n",
    "    X_copy = deepcopy(X)\n",
    "    X_permt = X_copy[:, permt]\n",
    "\n",
    "    permt_str = \":\".join([str(i) for i in permt])\n",
    "    fname = lambda hkey: f\"hkey={hkey}_rotatecolor_permt={permt_str}_seed={seed}.npy\"\n",
    "    Rcs = get_response_wrapper(hkeys, X_permt, fname, mtype=mtype, save=True) # key=hkey, value.shape=(#units, B)\n",
    "\n",
    "    for hkey in hkeys:\n",
    "        Rcs_all[hkey].append([Rcs[hkey]])\n",
    "\n",
    "colordic = {}\n",
    "for hkey in hkeys:\n",
    "    Rcs = Rcs_all[hkey] = np.vstack(Rcs_all[hkey]) # value.shape = (6, #units, B)\n",
    "    base = Rcs[0].std(axis=1) # shape = (#units,)\n",
    "    color_indices = Rcs.std(axis=0).mean(axis=1)/base # shape = (#units,)\n",
    "    colordic[hkey] = color_indices"
   ]
  },
  {
   "cell_type": "code",
   "execution_count": 20,
   "metadata": {},
   "outputs": [],
   "source": [
    "# get foi response\n",
    "xn, sz, lw, fg, bg = 227, 50, 1.5, 1.0, 0.0\n",
    "fill = get_stimulus(1, xn=xn, sz=sz, lw=lw, fg=fg, bg=bg)\n",
    "fname = lambda hkey: f\"hkey={hkey}_fill=1_xn={xn}_sz={sz}_lw={lw}_fg={fg}_bg={bg}.npy\"\n",
    "R_fills = get_response_wrapper(hkeys, fill, fname, mtype=mtype)\n",
    "outline = get_stimulus(0, xn=xn, sz=sz, lw=lw, fg=fg, bg=bg)\n",
    "fname = lambda hkey: f\"hkey={hkey}_fill=0_xn={xn}_sz={sz}_lw={lw}_fg={fg}_bg={bg}.npy\"\n",
    "R_outlines = get_response_wrapper(hkeys, outline, fname, mtype=mtype)\n",
    "prs_resnet18_foi, resp = get_prs(R_fills, R_outlines, hkeys)"
   ]
  },
  {
   "cell_type": "code",
   "execution_count": 21,
   "metadata": {},
   "outputs": [
    {
     "data": {
      "text/plain": [
       "<Figure size 900x900 with 0 Axes>"
      ]
     },
     "metadata": {},
     "output_type": "display_data"
    }
   ],
   "source": [
    "fig = plt.figure(figsize=(3*3, 3*3))\n",
    "\n",
    "for i in range(len(hkeys)):\n",
    "    hkey = hkeys[i]\n",
    "    foi = prs_resnet18_foi[hkey][resp[hkey]]\n",
    "    ti = np.array(colordic[hkey])[resp[hkey]]\n",
    "    \n",
    "    ax = fig.add_subplot(3, 3, i+1)\n",
    "    ax.scatter(ti, foi, color=\"k\", s=10)\n",
    "    ax.set_title(ResNet18_layer[hkey])\n",
    "\n",
    "vis.common_label(fig, \"Color index\", \"FOI\")\n",
    "plt.suptitle(\"FOI v CI for ResNet18\")\n",
    "plt.tight_layout()\n",
    "vis.savefig(\"ci_ResNet18.png\", folders=[\"summary_230526\"])"
   ]
  },
  {
   "cell_type": "code",
   "execution_count": 23,
   "metadata": {},
   "outputs": [
    {
     "name": "stdout",
     "output_type": "stream",
     "text": [
      "[ 17  24  39  48  67 115 131 134 189 195]\n"
     ]
    }
   ],
   "source": [
    "# Find specific unit\n",
    "\n",
    "hkey = 8\n",
    "foi = prs_resnet18_foi[hkey][resp[hkey]]\n",
    "ti = np.array(colordic[hkey])[resp[hkey]]\n",
    "\n",
    "units = np.where((foi > 0.8) & (ti < 0.15))[0]\n",
    "print(units)\n",
    "nav.npsave(units, nav.resultpath, f\"responses_{mtype}\", f\"hkey={hkey}_unitsCiMin.npy\")"
   ]
  },
  {
   "cell_type": "code",
   "execution_count": null,
   "metadata": {},
   "outputs": [],
   "source": []
  }
 ],
 "metadata": {
  "kernelspec": {
   "display_name": "arti3",
   "language": "python",
   "name": "python3"
  },
  "language_info": {
   "codemirror_mode": {
    "name": "ipython",
    "version": 3
   },
   "file_extension": ".py",
   "mimetype": "text/x-python",
   "name": "python",
   "nbconvert_exporter": "python",
   "pygments_lexer": "ipython3",
   "version": "3.10.10"
  },
  "orig_nbformat": 4
 },
 "nbformat": 4,
 "nbformat_minor": 2
}
